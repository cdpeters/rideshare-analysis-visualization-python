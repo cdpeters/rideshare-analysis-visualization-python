{
 "cells": [
  {
   "cell_type": "code",
   "execution_count": null,
   "id": "767bcafa-94c6-4e7c-9e41-0e922b082c6b",
   "metadata": {},
   "outputs": [],
   "source": [
    "# Add Matplotlib inline magic command\n",
    "%matplotlib inline\n",
    "\n",
    "# Dependencies and Setup\n",
    "import matplotlib.pyplot as plt\n",
    "import pandas as pd\n",
    "import pathlib\n",
    "import numpy as np\n",
    "import scipy.stats as sts\n",
    "\n",
    "plt.style.use('default')"
   ]
  },
  {
   "cell_type": "markdown",
   "id": "4c872b21-8921-4e6b-9b44-46e666abf1ed",
   "metadata": {},
   "source": [
    "## Import Data Files and Create DataFrames"
   ]
  },
  {
   "cell_type": "code",
   "execution_count": null,
   "id": "4509d494-62ee-4a58-a5cf-996e629c787d",
   "metadata": {},
   "outputs": [],
   "source": [
    "# Files to load\n",
    "city_data_to_load = pathlib.Path(\"resources/city_data.csv\")\n",
    "ride_data_to_load = pathlib.Path(\"resources/ride_data.csv\")"
   ]
  },
  {
   "cell_type": "code",
   "execution_count": null,
   "id": "b9e59348-e93a-4854-8cf6-36e867ae1873",
   "metadata": {},
   "outputs": [],
   "source": [
    "# Read the city and ride data files and store them in a pandas DataFrames\n",
    "city_df = pd.read_csv(city_data_to_load)\n",
    "ride_df = pd.read_csv(ride_data_to_load)\n",
    "\n",
    "print(city_df.head(10))\n",
    "print(ride_df.head(10))"
   ]
  },
  {
   "cell_type": "markdown",
   "id": "753c57de-9266-4747-9554-a8c8072eb3ad",
   "metadata": {
    "tags": []
   },
   "source": [
    "<br>\n",
    "<hr/>\n",
    "\n",
    "## Inspect and Clean the Data (if needed)\n",
    "### Inspect City DataFrame"
   ]
  },
  {
   "cell_type": "code",
   "execution_count": null,
   "id": "807d7294-7faf-402b-9220-a0178ef65ba2",
   "metadata": {},
   "outputs": [],
   "source": [
    "# Get the columns and the rows that are not null\n",
    "city_df.count()\n",
    "# city_df.isnull().sum()"
   ]
  },
  {
   "cell_type": "code",
   "execution_count": null,
   "id": "ccf44693-c02e-43e9-9566-bb47a3aed85c",
   "metadata": {},
   "outputs": [],
   "source": [
    "# Get the data types of each column\n",
    "city_df.dtypes"
   ]
  },
  {
   "cell_type": "code",
   "execution_count": null,
   "id": "9cfa6876-34be-48bf-bca0-bb34ad6eda29",
   "metadata": {},
   "outputs": [],
   "source": [
    "# Get the unique values of the type of city\n",
    "city_df[\"type\"].unique()"
   ]
  },
  {
   "cell_type": "code",
   "execution_count": null,
   "id": "e7a7c4ac-611f-413f-a4f4-952de5741de0",
   "metadata": {},
   "outputs": [],
   "source": [
    "# Get the number of data points for each type of city\n",
    "city_df.groupby(\"type\")[\"city\"].count()"
   ]
  },
  {
   "cell_type": "markdown",
   "id": "31d1dd15-a69a-4fc9-95e3-78a0971e06cf",
   "metadata": {},
   "source": [
    "### Inspect Ride DataFrame"
   ]
  },
  {
   "cell_type": "code",
   "execution_count": null,
   "id": "49c5cef1-8af9-4ef4-8e6c-844c55f7372b",
   "metadata": {},
   "outputs": [],
   "source": [
    "# Get the columns and the rows that are not null\n",
    "ride_df.count()\n",
    "# ride_df.isnull().sum()"
   ]
  },
  {
   "cell_type": "code",
   "execution_count": null,
   "id": "9303ec96-8a33-4619-abd4-f720c2c9f398",
   "metadata": {},
   "outputs": [],
   "source": [
    "# Get the data types of each column\n",
    "ride_df.dtypes"
   ]
  },
  {
   "cell_type": "markdown",
   "id": "b9f52aff-9e17-491d-9555-2e4c040580fd",
   "metadata": {},
   "source": [
    "## Merge the DataFrames"
   ]
  },
  {
   "cell_type": "code",
   "execution_count": null,
   "id": "2700b4fe-335c-4dc1-8906-4abbed6ca033",
   "metadata": {},
   "outputs": [],
   "source": [
    "# Combine the data into a single dataset\n",
    "pyber_df = pd.merge(ride_df, city_df, how=\"left\", on=[\"city\", \"city\"])\n",
    "pyber_df.head()"
   ]
  },
  {
   "cell_type": "markdown",
   "id": "292c2fa7-ba1e-4071-8cb2-349a358e4fc5",
   "metadata": {},
   "source": [
    "<br>\n",
    "<hr/>\n",
    "\n",
    "## Bubble Chart: Average Fare vs Number of Rides for Each City by City Type\n",
    "### Create DataFrames"
   ]
  },
  {
   "cell_type": "code",
   "execution_count": null,
   "id": "dbfa88fb-75ea-44e1-9d8d-ea2dd16fb293",
   "metadata": {},
   "outputs": [],
   "source": [
    "# Create DataFrames for each city type\n",
    "urban_cities_df = pyber_df[pyber_df[\"type\"] == \"Urban\"]\n",
    "suburban_cities_df = pyber_df[pyber_df[\"type\"] == \"Suburban\"]\n",
    "rural_cities_df = pyber_df[pyber_df[\"type\"] == \"Rural\"]\n",
    "\n",
    "urban_cities_df.head()"
   ]
  },
  {
   "cell_type": "markdown",
   "id": "f4e2853f-a432-494a-9c2a-18aa6ab0d41d",
   "metadata": {},
   "source": [
    "### Ride Counts for Each City"
   ]
  },
  {
   "cell_type": "code",
   "execution_count": null,
   "id": "481812bc-21ed-45c4-a838-1222ff019e2b",
   "metadata": {},
   "outputs": [],
   "source": [
    "# Get ride counts per city for each city type\n",
    "urban_ride_count = urban_cities_df.groupby(\"city\")[\"ride_id\"].count()\n",
    "suburban_ride_count = suburban_cities_df.groupby(\"city\")[\"ride_id\"].count()\n",
    "rural_ride_count = rural_cities_df.groupby(\"city\")[\"ride_id\"].count()\n",
    "\n",
    "urban_ride_count.head()"
   ]
  },
  {
   "cell_type": "markdown",
   "id": "cfcd7a81-eb53-4ff5-b73c-b215c9b1d6d4",
   "metadata": {},
   "source": [
    "### Average Fare for Each City"
   ]
  },
  {
   "cell_type": "code",
   "execution_count": null,
   "id": "c825ba27-678e-49c9-b3cc-12cca9739484",
   "metadata": {},
   "outputs": [],
   "source": [
    "# Get average fare per city for each city type\n",
    "urban_avg_fare = urban_cities_df.groupby(\"city\")[\"fare\"].mean()\n",
    "suburban_avg_fare = suburban_cities_df.groupby(\"city\")[\"fare\"].mean()\n",
    "rural_avg_fare = rural_cities_df.groupby(\"city\")[\"fare\"].mean()\n",
    "\n",
    "urban_avg_fare.head()"
   ]
  },
  {
   "cell_type": "markdown",
   "id": "10d5334a-edfe-4c21-939a-36e65e51c3a9",
   "metadata": {},
   "source": [
    "### Average Number of Drivers for Each City"
   ]
  },
  {
   "cell_type": "code",
   "execution_count": null,
   "id": "9a78675e-8467-4985-b024-803682b6c10e",
   "metadata": {},
   "outputs": [],
   "source": [
    "# Get average number of drivers per city for each city type\n",
    "urban_driver_count = urban_cities_df.groupby(\"city\")[\"driver_count\"].mean()\n",
    "suburban_driver_count = suburban_cities_df.groupby(\"city\")[\"driver_count\"].mean()\n",
    "rural_driver_count = rural_cities_df.groupby(\"city\")[\"driver_count\"].mean()\n",
    "\n",
    "urban_driver_count.head()"
   ]
  },
  {
   "cell_type": "markdown",
   "id": "6c4fceb2-31f8-4f63-b309-4579784d28f3",
   "metadata": {},
   "source": [
    "### Bubble Chart"
   ]
  },
  {
   "cell_type": "code",
   "execution_count": null,
   "id": "90a289f7-5222-4b2f-9b1b-917a9ed073ee",
   "metadata": {},
   "outputs": [],
   "source": [
    "# Build the bubble chart\n",
    "plt.subplots(figsize=(10, 6))\n",
    "\n",
    "# Plot urban cities\n",
    "plt.scatter(x=urban_ride_count,\n",
    "            y=urban_avg_fare,\n",
    "            s=10*urban_driver_count,\n",
    "            c=\"coral\",\n",
    "            edgecolor=\"black\",\n",
    "            linewidths=1,\n",
    "            alpha=0.8,\n",
    "            label=\"Urban\")\n",
    "\n",
    "# Plot suburban cities\n",
    "plt.scatter(x=suburban_ride_count,\n",
    "            y=suburban_avg_fare,\n",
    "            s=10*suburban_driver_count,\n",
    "            c=\"skyblue\",\n",
    "            edgecolor=\"black\",\n",
    "            linewidths=1,\n",
    "            alpha=0.8,\n",
    "            label=\"Suburban\")\n",
    "\n",
    "# Plot rural cities\n",
    "plt.scatter(x=rural_ride_count,\n",
    "            y=rural_avg_fare,\n",
    "            s=10*rural_driver_count,\n",
    "            c=\"gold\",\n",
    "            edgecolor=\"black\",\n",
    "            linewidths=1,\n",
    "            alpha=0.8,\n",
    "            label=\"Rural\")\n",
    "\n",
    "# Add graph properties\n",
    "plt.title(label=\"PyBer Ride-Sharing Data (2019)\", fontsize=20)\n",
    "plt.xlabel(xlabel=\"Total Number of Rides (Per City)\", fontsize=12)\n",
    "plt.ylabel(ylabel=\"Average Fare ($)\", fontsize=12)\n",
    "plt.grid(True)\n",
    "\n",
    "# Create a legend\n",
    "lgnd = plt.legend(fontsize=12,\n",
    "                  scatterpoints=1,\n",
    "                  loc=\"best\",\n",
    "                  title=\"City Types\")\n",
    "lgnd.legendHandles[0]._sizes = [75]\n",
    "lgnd.legendHandles[1]._sizes = [75]\n",
    "lgnd.legendHandles[2]._sizes = [75]\n",
    "lgnd.get_title().set_fontsize(12)\n",
    "\n",
    "# Incorporate a text label about circle size\n",
    "plt.text(41.5, 35, \"Note:\\nCircle size correlates\\nwith driver count per\\ncity.\", fontsize=12)\n",
    "\n",
    "# Save the figure\n",
    "plt.savefig(\"analysis/pyber_bubble_chart.png\", bbox_inches=\"tight\")\n",
    "plt.savefig(\"analysis/pyber_bubble_chart.svg\", bbox_inches=\"tight\")\n",
    "plt.show()"
   ]
  },
  {
   "cell_type": "markdown",
   "id": "57fcc55c-d966-4578-b2a9-2c8a8f029706",
   "metadata": {},
   "source": [
    "<br>\n",
    "<hr/>\n",
    "\n",
    "## Calculate Summary Statistics"
   ]
  },
  {
   "cell_type": "markdown",
   "id": "45b7ccba-e28a-4114-9788-a0e560408c9a",
   "metadata": {},
   "source": [
    "### City Type DataFrames: describe()"
   ]
  },
  {
   "cell_type": "code",
   "execution_count": null,
   "id": "a6cd0848-9f58-4bb1-9d22-25fa5723a4f8",
   "metadata": {},
   "outputs": [],
   "source": [
    "# Get summary statistics\n",
    "urban_cities_df.describe()"
   ]
  },
  {
   "cell_type": "code",
   "execution_count": null,
   "id": "7a135512-6767-4812-8d00-76917d117df3",
   "metadata": {},
   "outputs": [],
   "source": [
    "suburban_cities_df.describe()"
   ]
  },
  {
   "cell_type": "code",
   "execution_count": null,
   "id": "dacdc614-234f-43d8-8c61-9ee9cc3df83f",
   "metadata": {},
   "outputs": [],
   "source": [
    "rural_cities_df.describe()"
   ]
  },
  {
   "cell_type": "markdown",
   "id": "93efb4be-855b-4474-abae-8580a7aeab58",
   "metadata": {},
   "source": [
    "<hr/>\n",
    "\n",
    "### Ride Count Series: describe()"
   ]
  },
  {
   "cell_type": "code",
   "execution_count": null,
   "id": "42caa594-a2e4-434b-8fd7-00d25c915e3c",
   "metadata": {},
   "outputs": [],
   "source": [
    "# Get summary statistics\n",
    "urban_ride_count.describe()"
   ]
  },
  {
   "cell_type": "code",
   "execution_count": null,
   "id": "6295c274-76d3-4c8e-bae9-32c25c2399e5",
   "metadata": {},
   "outputs": [],
   "source": [
    "suburban_ride_count.describe()"
   ]
  },
  {
   "cell_type": "code",
   "execution_count": null,
   "id": "ae1b5203-b299-4ba5-9939-ac6792a7afe5",
   "metadata": {},
   "outputs": [],
   "source": [
    "rural_ride_count.describe()"
   ]
  },
  {
   "cell_type": "markdown",
   "id": "30c38b3f-f1c1-472d-9a5e-cdb3015472a6",
   "metadata": {},
   "source": [
    "<hr/>\n",
    "\n",
    "### Ride Count Series: mean(), median(), mode()"
   ]
  },
  {
   "cell_type": "code",
   "execution_count": null,
   "id": "1239e449-f7e4-4f5d-8bb3-3a25dc69097f",
   "metadata": {},
   "outputs": [],
   "source": [
    "# Calculate the mean of the ride count for each city type\n",
    "round(urban_ride_count.mean(),2), round(suburban_ride_count.mean(),2), round(rural_ride_count.mean(),2)"
   ]
  },
  {
   "cell_type": "code",
   "execution_count": null,
   "id": "673e8f89-5917-48ab-ac74-fdfbd2744e18",
   "metadata": {},
   "outputs": [],
   "source": [
    "# Calculate the median of the ride count for each city type\n",
    "round(urban_ride_count.median(),2), round(suburban_ride_count.median(),2), round(rural_ride_count.median(),2)"
   ]
  },
  {
   "cell_type": "code",
   "execution_count": null,
   "id": "0ea41b92-7c29-41bc-91ae-7ea61c6afd93",
   "metadata": {},
   "outputs": [],
   "source": [
    "# Calculate the mode of the ride count for each city type\n",
    "urban_ride_count.mode(), suburban_ride_count.mode(), rural_ride_count.mode()"
   ]
  },
  {
   "cell_type": "markdown",
   "id": "6280803c-623d-4565-8765-62167aa759c5",
   "metadata": {},
   "source": [
    "<hr/>\n",
    "\n",
    "### Ride Count Series: np.mean(), np.median(), sts.mode()\n",
    "#### Urban Cities"
   ]
  },
  {
   "cell_type": "code",
   "execution_count": null,
   "id": "a815c20f-3826-4537-b01f-123057e04007",
   "metadata": {},
   "outputs": [],
   "source": [
    "# Calculate the measures of central tendency for the ride count for the urban cities\n",
    "mean_urban_ride_count = np.mean(urban_ride_count)\n",
    "print(f\"The mean for the ride counts for urban trips is {mean_urban_ride_count:.2f}.\")\n",
    "\n",
    "median_urban_ride_count = np.median(urban_ride_count)\n",
    "print(f\"The median for the ride counts for urban trips is {median_urban_ride_count}.\")\n",
    "\n",
    "mode_urban_ride_count = sts.mode(urban_ride_count)\n",
    "print(f\"The mode for the ride counts for urban trips is {mode_urban_ride_count}.\")"
   ]
  },
  {
   "cell_type": "markdown",
   "id": "4cfa82ae-8ffe-46a5-85e2-6e6407e7877f",
   "metadata": {},
   "source": [
    "#### Suburban Cities"
   ]
  },
  {
   "cell_type": "code",
   "execution_count": null,
   "id": "e3aacd56-7908-4087-9cec-873409bb3f88",
   "metadata": {},
   "outputs": [],
   "source": [
    "# Calculate the measures of central tendency for the ride count for the suburban cities\n",
    "mean_suburban_ride_count = np.mean(suburban_ride_count)\n",
    "print(f\"The mean for the ride counts for suburban trips is {mean_suburban_ride_count:.2f}.\")\n",
    "\n",
    "median_suburban_ride_count = np.median(suburban_ride_count)\n",
    "print(f\"The median for the ride counts for suburban trips is {median_suburban_ride_count}.\")\n",
    "\n",
    "mode_suburban_ride_count = sts.mode(suburban_ride_count)\n",
    "print(f\"The mode for the ride counts for suburban trips is {mode_suburban_ride_count}.\")"
   ]
  },
  {
   "cell_type": "markdown",
   "id": "bc82010d-0151-4958-a466-2e9292890000",
   "metadata": {},
   "source": [
    "#### Rural Cities"
   ]
  },
  {
   "cell_type": "code",
   "execution_count": null,
   "id": "7d32f58e-6ee1-46fb-8e59-93ce19304366",
   "metadata": {},
   "outputs": [],
   "source": [
    "# Calculate the measures of central tendency for the ride count for the rural cities\n",
    "mean_rural_ride_count = np.mean(rural_ride_count)\n",
    "print(f\"The mean for the ride counts for rural trips is {mean_rural_ride_count:.2f}.\")\n",
    "\n",
    "median_rural_ride_count = np.median(rural_ride_count)\n",
    "print(f\"The median for the ride counts for rural trips is {median_rural_ride_count}.\")\n",
    "\n",
    "mode_rural_ride_count = sts.mode(rural_ride_count)\n",
    "print(f\"The mode for the ride counts for rural trips is {mode_rural_ride_count}.\")"
   ]
  },
  {
   "cell_type": "markdown",
   "id": "c3e721e8-a1bf-417f-9240-aaf68f966834",
   "metadata": {},
   "source": [
    "<hr/>\n",
    "\n",
    "### Fares: np.mean(), np.median(), sts.mode()\n",
    "#### Urban Cities"
   ]
  },
  {
   "cell_type": "code",
   "execution_count": null,
   "id": "4931fa1b-23d4-4fe1-90d5-17323fc485e5",
   "metadata": {},
   "outputs": [],
   "source": [
    "# Get the fares for the urban cities\n",
    "urban_fares = urban_cities_df[\"fare\"]\n",
    "\n",
    "# Calculate the measures of central tendency for the average fare for the urban cities\n",
    "mean_urban_fares = np.mean(urban_fares)\n",
    "print(f\"The mean fare price for urban trips is ${mean_urban_fares:.2f}.\")\n",
    "\n",
    "median_urban_fares = np.median(urban_fares)\n",
    "print(f\"The median fare price for urban trips is ${median_urban_fares:.2f}.\")\n",
    "\n",
    "mode_urban_fares = sts.mode(urban_fares)\n",
    "print(f\"The mode fare price for urban trips is {mode_urban_fares}.\")"
   ]
  },
  {
   "cell_type": "markdown",
   "id": "5a0e03b4-a7e0-4268-ac52-76596ba7fbea",
   "metadata": {},
   "source": [
    "#### Suburban Cities"
   ]
  },
  {
   "cell_type": "code",
   "execution_count": null,
   "id": "affc9f43-9709-434c-a700-0bf0caec67f0",
   "metadata": {},
   "outputs": [],
   "source": [
    "# Get the fares for the suburban cities\n",
    "suburban_fares = suburban_cities_df[\"fare\"]\n",
    "\n",
    "# Calculate the measures of central tendency for the average fare for the suburban cities\n",
    "mean_suburban_fares = np.mean(suburban_fares)\n",
    "print(f\"The mean fare price for suburban trips is ${mean_suburban_fares:.2f}.\")\n",
    "\n",
    "median_suburban_fares = np.median(suburban_fares)\n",
    "print(f\"The median fare price for suburban trips is ${median_suburban_fares:.2f}.\")\n",
    "\n",
    "mode_suburban_fares = sts.mode(suburban_fares)\n",
    "print(f\"The mode fare price for suburban trips is {mode_suburban_fares}.\")"
   ]
  },
  {
   "cell_type": "markdown",
   "id": "bae69b6b-d719-427a-b12b-537ec31f2abe",
   "metadata": {},
   "source": [
    "#### Rural Cities"
   ]
  },
  {
   "cell_type": "code",
   "execution_count": null,
   "id": "eb63aedf-d4cc-4296-934f-a821b7b196f7",
   "metadata": {},
   "outputs": [],
   "source": [
    "# Get the fares for the rural cities\n",
    "rural_fares = rural_cities_df[\"fare\"]\n",
    "\n",
    "# Calculate the measures of central tendency for the average fare for the rural cities\n",
    "mean_rural_fares = np.mean(rural_fares)\n",
    "print(f\"The mean fare price for rural trips is ${mean_rural_fares:.2f}.\")\n",
    "\n",
    "median_rural_fares = np.median(rural_fares)\n",
    "print(f\"The median fare price for rural trips is ${median_rural_fares:.2f}.\")\n",
    "\n",
    "mode_rural_fares = sts.mode(rural_fares)\n",
    "print(f\"The mode fare price for rural trips is {mode_rural_fares}.\")"
   ]
  },
  {
   "cell_type": "markdown",
   "id": "5eef165c-6330-4712-b335-261865acc61b",
   "metadata": {},
   "source": [
    "<hr/>\n",
    "\n",
    "### Driver Count: np.mean(), np.median(), sts.mode()\n",
    "#### Urban Cities"
   ]
  },
  {
   "cell_type": "code",
   "execution_count": null,
   "id": "8bc8adbf-f46c-41b6-87c1-32740f796ec4",
   "metadata": {},
   "outputs": [],
   "source": [
    "# Get the driver count data from the urban cities\n",
    "urban_drivers = urban_cities_df['driver_count']\n",
    "\n",
    "# Calculate the measures of central tendency for the driver count for the urban cities\n",
    "mean_urban_drivers = np.mean(urban_drivers)\n",
    "print(f\"The mean driver count for urban trips is {mean_urban_drivers:.2f}.\")\n",
    "\n",
    "median_urban_drivers = np.median(urban_drivers)\n",
    "print(f\"The median driver count for urban trips is {median_urban_drivers:.1f}.\")\n",
    "\n",
    "mode_urban_drivers = sts.mode(urban_drivers)\n",
    "print(f\"The mode driver count for urban trips is {mode_urban_drivers}.\")"
   ]
  },
  {
   "cell_type": "markdown",
   "id": "be655ed9-7fc6-4887-92b2-0821025d4e5d",
   "metadata": {},
   "source": [
    "#### Suburban Cities"
   ]
  },
  {
   "cell_type": "code",
   "execution_count": null,
   "id": "111326ae-a9d1-4503-875f-c65b874e9ef2",
   "metadata": {},
   "outputs": [],
   "source": [
    "# Get the driver count data from the suburban cities\n",
    "suburban_drivers = suburban_cities_df['driver_count']\n",
    "\n",
    "# Calculate the measures of central tendency for the driver count for the suburban cities\n",
    "mean_suburban_drivers = np.mean(suburban_drivers)\n",
    "print(f\"The mean driver count for suburban trips is {mean_suburban_drivers:.2f}.\")\n",
    "\n",
    "median_suburban_drivers = np.median(suburban_drivers)\n",
    "print(f\"The median driver count for suburban trips is {median_suburban_drivers:.1f}.\")\n",
    "\n",
    "mode_suburban_drivers = sts.mode(suburban_drivers)\n",
    "print(f\"The mode driver count for suburban trips is {mode_suburban_drivers}.\")"
   ]
  },
  {
   "cell_type": "markdown",
   "id": "cb43fd91-8a8c-48df-b078-0242d753d72c",
   "metadata": {},
   "source": [
    "#### Rural Cities"
   ]
  },
  {
   "cell_type": "code",
   "execution_count": null,
   "id": "efcedb93-8ef0-4bc8-897d-9289f0b97c71",
   "metadata": {},
   "outputs": [],
   "source": [
    "# Get the driver count data from the rural cities\n",
    "rural_drivers = rural_cities_df['driver_count']\n",
    "\n",
    "# Calculate the measures of central tendency for the driver count for the rural cities\n",
    "mean_rural_drivers = np.mean(rural_drivers)\n",
    "print(f\"The mean driver count for rural trips is {mean_rural_drivers:.2f}.\")\n",
    "\n",
    "median_rural_drivers = np.median(rural_drivers)\n",
    "print(f\"The median driver count for rural trips is {median_rural_drivers:.1f}.\")\n",
    "\n",
    "mode_rural_drivers = sts.mode(rural_drivers)\n",
    "print(f\"The mode driver count for rural trips is {mode_rural_drivers}.\")"
   ]
  },
  {
   "cell_type": "markdown",
   "id": "60aaf917-6a3d-44cd-8423-a5a0e7c0ca55",
   "metadata": {},
   "source": [
    "<hr/>\n",
    "\n",
    "### Box-and-Whisker Plots\n",
    "#### Ride Count"
   ]
  },
  {
   "cell_type": "code",
   "execution_count": null,
   "id": "89c4d732-a7cf-43c4-a8c8-26ab6e181dcc",
   "metadata": {},
   "outputs": [],
   "source": [
    "# Add all ride count box-and-whisker plots to the same graph\n",
    "x_labels = [\"Urban\", \"Suburban\",\"Rural\"]\n",
    "ride_count_data = [urban_ride_count, suburban_ride_count, rural_ride_count]\n",
    "\n",
    "# Labels\n",
    "fig, ax = plt.subplots(figsize=(10, 6))\n",
    "ax.set_title('Ride Count Data (2019)',fontsize=20)\n",
    "ax.set_ylabel('Number of Rides',fontsize=14)\n",
    "ax.set_xlabel(\"City Types\",fontsize=14)\n",
    "\n",
    "# Make the 3 box-and-whisker plots on one axes\n",
    "ax.boxplot(ride_count_data, labels=x_labels)\n",
    "\n",
    "ax.set_yticks(np.arange(0, 45, step=3.0))\n",
    "ax.grid()\n",
    "\n",
    "# Save the figure.\n",
    "plt.savefig(\"analysis/pyber_ride_count_box-and-whisker_plot.png\", bbox_inches=\"tight\")\n",
    "plt.savefig(\"analysis/pyber_ride_count_box-and-whisker_plot.svg\", bbox_inches=\"tight\")\n",
    "plt.show()"
   ]
  },
  {
   "cell_type": "code",
   "execution_count": null,
   "id": "ecec25cc-c9b3-4947-b8ca-c3b58877ae94",
   "metadata": {},
   "outputs": [],
   "source": [
    "# Get the city that matches 39 (the outlier seen in the box-and-whisker plot)\n",
    "urban_city_outlier = urban_ride_count[urban_ride_count==39].index[0]\n",
    "print(f\"{urban_city_outlier} has the highest rider count.\")"
   ]
  },
  {
   "cell_type": "markdown",
   "id": "43441241-0f69-4484-80e0-07b1494a4d9e",
   "metadata": {},
   "source": [
    "#### Ride Fare"
   ]
  },
  {
   "cell_type": "code",
   "execution_count": null,
   "id": "aab5aa2a-a33e-4f94-9c3a-69ff3442bbba",
   "metadata": {},
   "outputs": [],
   "source": [
    "# Add all ride fare box-and-whisker plots to the same graph\n",
    "x_labels = [\"Urban\", \"Suburban\",\"Rural\"]\n",
    "ride_fare_data = [urban_fares, suburban_fares, rural_fares]\n",
    "\n",
    "# Labels\n",
    "fig, ax = plt.subplots(figsize=(10, 6))\n",
    "ax.set_title('Ride Fare Data (2019)',fontsize=20)\n",
    "ax.set_ylabel('Fare ($USD)',fontsize=14)\n",
    "ax.set_xlabel(\"City Types\",fontsize=14)\n",
    "\n",
    "# Make the 3 box-and-whisker plots on one axes\n",
    "ax.boxplot(ride_fare_data, labels=x_labels)\n",
    "\n",
    "ax.set_yticks(np.arange(0, 61, step=5.0))\n",
    "ax.grid()\n",
    "\n",
    "# Save the figure.\n",
    "plt.savefig(\"analysis/pyber_ride_fare_box-and-whisker_plot.png\", bbox_inches=\"tight\")\n",
    "plt.savefig(\"analysis/pyber_ride_fare_box-and-whisker_plot.svg\", bbox_inches=\"tight\")\n",
    "plt.show()"
   ]
  },
  {
   "cell_type": "markdown",
   "id": "50c106f1-d9a3-412d-8f97-201e2bdcd417",
   "metadata": {},
   "source": [
    "#### Driver Count"
   ]
  },
  {
   "cell_type": "code",
   "execution_count": null,
   "id": "00c68899-9ebd-4c40-b6bd-e73c2c4be87b",
   "metadata": {},
   "outputs": [],
   "source": [
    "# Add all ride driver count box-and-whisker plots to the same graph\n",
    "x_labels = [\"Urban\", \"Suburban\",\"Rural\"]\n",
    "driver_count_data = [urban_driver_count, suburban_driver_count, rural_driver_count]\n",
    "\n",
    "# Labels\n",
    "fig, ax = plt.subplots(figsize=(10, 6))\n",
    "ax.set_title('Driver Count Data (2019)',fontsize=20)\n",
    "ax.set_ylabel('Number of Drivers',fontsize=14)\n",
    "ax.set_xlabel(\"City Types\",fontsize=14)\n",
    "\n",
    "# Make the 3 box-and-whisker plots on one axes\n",
    "ax.boxplot(driver_count_data, labels=x_labels)\n",
    "\n",
    "ax.set_yticks(np.arange(0, 76, step=5.0))\n",
    "ax.grid()\n",
    "\n",
    "# Save the figure.\n",
    "plt.savefig(\"analysis/pyber_driver_count_box-and-whisker_plot.png\", bbox_inches=\"tight\")\n",
    "plt.savefig(\"analysis/pyber_driver_count_box-and-whisker_plot.svg\", bbox_inches=\"tight\")\n",
    "plt.show()"
   ]
  }
 ],
 "metadata": {
  "kernelspec": {
   "display_name": "PythonData",
   "language": "python",
   "name": "pythondata"
  },
  "language_info": {
   "codemirror_mode": {
    "name": "ipython",
    "version": 3
   },
   "file_extension": ".py",
   "mimetype": "text/x-python",
   "name": "python",
   "nbconvert_exporter": "python",
   "pygments_lexer": "ipython3",
   "version": "3.7.11"
  }
 },
 "nbformat": 4,
 "nbformat_minor": 5
}
