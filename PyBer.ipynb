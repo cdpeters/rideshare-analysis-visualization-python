{
 "cells": [
  {
   "cell_type": "code",
   "execution_count": 3,
   "id": "767bcafa-94c6-4e7c-9e41-0e922b082c6b",
   "metadata": {},
   "outputs": [],
   "source": [
    "# Add Matplotlib inline magic command\n",
    "%matplotlib inline\n",
    "\n",
    "# Dependencies and Setup\n",
    "import matplotlib.pyplot as plt\n",
    "import pandas as pd\n",
    "import pathlib"
   ]
  },
  {
   "cell_type": "markdown",
   "id": "4c872b21-8921-4e6b-9b44-46e666abf1ed",
   "metadata": {},
   "source": [
    "## Import Data Files and Create DataFrames"
   ]
  },
  {
   "cell_type": "code",
   "execution_count": 6,
   "id": "4509d494-62ee-4a58-a5cf-996e629c787d",
   "metadata": {},
   "outputs": [],
   "source": [
    "# Files to load\n",
    "city_data_to_load = pathlib.Path(\"Resources/city_data.csv\")\n",
    "ride_data_to_load = pathlib.Path(\"Resources/ride_data.csv\")"
   ]
  },
  {
   "cell_type": "code",
   "execution_count": 9,
   "id": "b9e59348-e93a-4854-8cf6-36e867ae1873",
   "metadata": {},
   "outputs": [
    {
     "name": "stdout",
     "output_type": "stream",
     "text": [
      "            city  driver_count   type\n",
      "0    Richardfort            38  Urban\n",
      "1   Williamsstad            59  Urban\n",
      "2    Port Angela            67  Urban\n",
      "3     Rodneyfort            34  Urban\n",
      "4    West Robert            39  Urban\n",
      "5   West Anthony            70  Urban\n",
      "6    West Angela            48  Urban\n",
      "7  Martinezhaven            25  Urban\n",
      "8      Karenberg            22  Urban\n",
      "9    Barajasview            26  Urban\n",
      "                 city                 date   fare        ride_id\n",
      "0  Lake Jonathanshire  2019-01-14 10:14:22  13.83  5739410935873\n",
      "1  South Michelleport  2019-03-04 18:24:09  30.24  2343912425577\n",
      "2  Port Samanthamouth  2019-02-24 04:29:00  33.44  2005065760003\n",
      "3          Rodneyfort  2019-02-10 23:22:03  23.44  5149245426178\n",
      "4          South Jack  2019-03-06 04:28:35  34.58  3908451377344\n",
      "5        South Latoya  2019-03-11 12:26:48   9.52  1994999424437\n",
      "6       New Paulville  2019-02-27 11:17:56  43.25   793208410091\n",
      "7        Simpsonburgh  2019-04-26 00:43:24  35.98   111953927754\n",
      "8     South Karenland  2019-01-08 03:28:48  35.09  7995623208694\n",
      "9       North Jasmine  2019-03-09 06:26:29  42.81  5327642267789\n"
     ]
    }
   ],
   "source": [
    "# Read the city and ride data files and store them in a pandas DataFrames\n",
    "city_df = pd.read_csv(city_data_to_load)\n",
    "ride_df = pd.read_csv(ride_data_to_load)\n",
    "\n",
    "print(city_df.head(10))\n",
    "print(ride_df.head(10))"
   ]
  },
  {
   "cell_type": "markdown",
   "id": "753c57de-9266-4747-9554-a8c8072eb3ad",
   "metadata": {},
   "source": [
    "## Inspect and Clean the Data (if needed)\n",
    "### Inspect City DataFrame"
   ]
  },
  {
   "cell_type": "code",
   "execution_count": 38,
   "id": "807d7294-7faf-402b-9220-a0178ef65ba2",
   "metadata": {},
   "outputs": [
    {
     "data": {
      "text/plain": [
       "city            120\n",
       "driver_count    120\n",
       "type            120\n",
       "dtype: int64"
      ]
     },
     "execution_count": 38,
     "metadata": {},
     "output_type": "execute_result"
    }
   ],
   "source": [
    "# Get the columns and the rows that are not null\n",
    "city_df.count()\n",
    "# city_df.isnull().sum()"
   ]
  },
  {
   "cell_type": "code",
   "execution_count": 39,
   "id": "ccf44693-c02e-43e9-9566-bb47a3aed85c",
   "metadata": {},
   "outputs": [
    {
     "data": {
      "text/plain": [
       "city            object\n",
       "driver_count     int64\n",
       "type            object\n",
       "dtype: object"
      ]
     },
     "execution_count": 39,
     "metadata": {},
     "output_type": "execute_result"
    }
   ],
   "source": [
    "# Get the data types of each column\n",
    "city_df.dtypes"
   ]
  },
  {
   "cell_type": "code",
   "execution_count": 40,
   "id": "9cfa6876-34be-48bf-bca0-bb34ad6eda29",
   "metadata": {},
   "outputs": [
    {
     "data": {
      "text/plain": [
       "array(['Urban', 'Suburban', 'Rural'], dtype=object)"
      ]
     },
     "execution_count": 40,
     "metadata": {},
     "output_type": "execute_result"
    }
   ],
   "source": [
    "# Get the unique values of the type of city\n",
    "city_df[\"type\"].unique()"
   ]
  },
  {
   "cell_type": "code",
   "execution_count": 41,
   "id": "e7a7c4ac-611f-413f-a4f4-952de5741de0",
   "metadata": {},
   "outputs": [
    {
     "data": {
      "text/plain": [
       "type\n",
       "Rural       18\n",
       "Suburban    36\n",
       "Urban       66\n",
       "Name: city, dtype: int64"
      ]
     },
     "execution_count": 41,
     "metadata": {},
     "output_type": "execute_result"
    }
   ],
   "source": [
    "# Get the number of data points for each type of city\n",
    "city_df.groupby(\"type\")[\"city\"].count()"
   ]
  },
  {
   "cell_type": "markdown",
   "id": "31d1dd15-a69a-4fc9-95e3-78a0971e06cf",
   "metadata": {},
   "source": [
    "### Inspect Ride DataFrame"
   ]
  },
  {
   "cell_type": "code",
   "execution_count": 44,
   "id": "49c5cef1-8af9-4ef4-8e6c-844c55f7372b",
   "metadata": {},
   "outputs": [
    {
     "data": {
      "text/plain": [
       "city       2375\n",
       "date       2375\n",
       "fare       2375\n",
       "ride_id    2375\n",
       "dtype: int64"
      ]
     },
     "execution_count": 44,
     "metadata": {},
     "output_type": "execute_result"
    }
   ],
   "source": [
    "# Get the columns and the rows that are not null\n",
    "ride_df.count()\n",
    "# ride_df.isnull().sum()"
   ]
  },
  {
   "cell_type": "code",
   "execution_count": 45,
   "id": "9303ec96-8a33-4619-abd4-f720c2c9f398",
   "metadata": {},
   "outputs": [
    {
     "data": {
      "text/plain": [
       "city        object\n",
       "date        object\n",
       "fare       float64\n",
       "ride_id      int64\n",
       "dtype: object"
      ]
     },
     "execution_count": 45,
     "metadata": {},
     "output_type": "execute_result"
    }
   ],
   "source": [
    "# Get the data types of each column\n",
    "ride_df.dtypes"
   ]
  },
  {
   "cell_type": "markdown",
   "id": "b9f52aff-9e17-491d-9555-2e4c040580fd",
   "metadata": {},
   "source": [
    "## Merge the DataFrames"
   ]
  },
  {
   "cell_type": "code",
   "execution_count": 54,
   "id": "2700b4fe-335c-4dc1-8906-4abbed6ca033",
   "metadata": {},
   "outputs": [
    {
     "data": {
      "text/html": [
       "<div>\n",
       "<style scoped>\n",
       "    .dataframe tbody tr th:only-of-type {\n",
       "        vertical-align: middle;\n",
       "    }\n",
       "\n",
       "    .dataframe tbody tr th {\n",
       "        vertical-align: top;\n",
       "    }\n",
       "\n",
       "    .dataframe thead th {\n",
       "        text-align: right;\n",
       "    }\n",
       "</style>\n",
       "<table border=\"1\" class=\"dataframe\">\n",
       "  <thead>\n",
       "    <tr style=\"text-align: right;\">\n",
       "      <th></th>\n",
       "      <th>city</th>\n",
       "      <th>date</th>\n",
       "      <th>fare</th>\n",
       "      <th>ride_id</th>\n",
       "      <th>driver_count</th>\n",
       "      <th>type</th>\n",
       "    </tr>\n",
       "  </thead>\n",
       "  <tbody>\n",
       "    <tr>\n",
       "      <th>0</th>\n",
       "      <td>Lake Jonathanshire</td>\n",
       "      <td>2019-01-14 10:14:22</td>\n",
       "      <td>13.83</td>\n",
       "      <td>5739410935873</td>\n",
       "      <td>5</td>\n",
       "      <td>Urban</td>\n",
       "    </tr>\n",
       "    <tr>\n",
       "      <th>1</th>\n",
       "      <td>South Michelleport</td>\n",
       "      <td>2019-03-04 18:24:09</td>\n",
       "      <td>30.24</td>\n",
       "      <td>2343912425577</td>\n",
       "      <td>72</td>\n",
       "      <td>Urban</td>\n",
       "    </tr>\n",
       "    <tr>\n",
       "      <th>2</th>\n",
       "      <td>Port Samanthamouth</td>\n",
       "      <td>2019-02-24 04:29:00</td>\n",
       "      <td>33.44</td>\n",
       "      <td>2005065760003</td>\n",
       "      <td>57</td>\n",
       "      <td>Urban</td>\n",
       "    </tr>\n",
       "    <tr>\n",
       "      <th>3</th>\n",
       "      <td>Rodneyfort</td>\n",
       "      <td>2019-02-10 23:22:03</td>\n",
       "      <td>23.44</td>\n",
       "      <td>5149245426178</td>\n",
       "      <td>34</td>\n",
       "      <td>Urban</td>\n",
       "    </tr>\n",
       "    <tr>\n",
       "      <th>4</th>\n",
       "      <td>South Jack</td>\n",
       "      <td>2019-03-06 04:28:35</td>\n",
       "      <td>34.58</td>\n",
       "      <td>3908451377344</td>\n",
       "      <td>46</td>\n",
       "      <td>Urban</td>\n",
       "    </tr>\n",
       "  </tbody>\n",
       "</table>\n",
       "</div>"
      ],
      "text/plain": [
       "                 city                 date   fare        ride_id  \\\n",
       "0  Lake Jonathanshire  2019-01-14 10:14:22  13.83  5739410935873   \n",
       "1  South Michelleport  2019-03-04 18:24:09  30.24  2343912425577   \n",
       "2  Port Samanthamouth  2019-02-24 04:29:00  33.44  2005065760003   \n",
       "3          Rodneyfort  2019-02-10 23:22:03  23.44  5149245426178   \n",
       "4          South Jack  2019-03-06 04:28:35  34.58  3908451377344   \n",
       "\n",
       "   driver_count   type  \n",
       "0             5  Urban  \n",
       "1            72  Urban  \n",
       "2            57  Urban  \n",
       "3            34  Urban  \n",
       "4            46  Urban  "
      ]
     },
     "execution_count": 54,
     "metadata": {},
     "output_type": "execute_result"
    }
   ],
   "source": [
    "# Combine the data into a single dataset\n",
    "pyber_df = pd.merge(ride_df, city_df, how=\"left\", on=[\"city\", \"city\"])\n",
    "pyber_df.head()"
   ]
  },
  {
   "cell_type": "code",
   "execution_count": null,
   "id": "3093fc31-8070-4817-b3ed-5f07b1915fb1",
   "metadata": {},
   "outputs": [],
   "source": []
  }
 ],
 "metadata": {
  "kernelspec": {
   "display_name": "PythonData",
   "language": "python",
   "name": "pythondata"
  },
  "language_info": {
   "codemirror_mode": {
    "name": "ipython",
    "version": 3
   },
   "file_extension": ".py",
   "mimetype": "text/x-python",
   "name": "python",
   "nbconvert_exporter": "python",
   "pygments_lexer": "ipython3",
   "version": "3.7.11"
  }
 },
 "nbformat": 4,
 "nbformat_minor": 5
}
